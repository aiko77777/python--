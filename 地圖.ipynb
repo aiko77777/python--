{
 "cells": [
  {
   "cell_type": "code",
   "execution_count": null,
   "metadata": {},
   "outputs": [],
   "source": [
    "import folium\n",
    "from folium.plugins import HeatMap\n",
    "fmap = folium.Map(location=[25.033, 121.565], zoom_start=20)\n",
    "folium.Marker(location=[25.033, 121.565],popup=\"here\").add_to(fmap)\n",
    "fmap"
   ]
  },
  {
   "cell_type": "code",
   "execution_count": 150,
   "metadata": {},
   "outputs": [
    {
     "name": "stdout",
     "output_type": "stream",
     "text": [
      "[[23.0982, 121.162], [23.9382, 121.461], [23.466, 121.527], [23.3207, 121.435], [23.2248, 120.43], [24.4848, 121.893], [24.8238, 122.231], [24.2675, 121.894], [22.7948, 121.149], [22.7998, 121.155], [22.7927, 121.153], [24.7013, 121.739], [22.7778, 121.295], [22.7958, 121.168], [23.3208, 120.407], [24.3867, 121.741], [24.3385, 121.774], [24.3822, 121.734], [23.2607, 120.972], [23.4977, 121.506], [23.7397, 121.471], [23.3918, 121.297], [23.0632, 121.141], [24.1637, 121.308], [24.3555, 121.903], [24.0753, 120.924], [24.3678, 121.67], [22.7537, 120.915], [22.9118, 121.081], [23.743, 121.396], [22.5152, 120.944], [22.8003, 121.144], [22.7907, 121.16], [24.1812, 121.733], [24.8547, 121.391], [24.3178, 122.929], [23.03, 121.191], [23.7437, 121.404], [24.636, 121.535], [23.439, 121.439], [24.2997, 121.808], [23.2692, 120.971], [24.1817, 121.723], [23.207, 121.348], [24.1085, 121.545], [23.1968, 121.358], [23.2958, 121.437], [24.182, 121.727], [23.9275, 121.463], [23.132, 120.799], [24.4003, 121.705], [24.4323, 120.956], [22.873, 120.644]]\n"
     ]
    }
   ],
   "source": [
    "import pandas as pd\n",
    "import numpy as np\n",
    "data3 =pd.read_excel(\"C:/Users/a2147/OneDrive/桌面/python/project1-folium/地震活動彙整_4月.xlsx\",usecols=[3,2])\n",
    "#print(data2)\n",
    "#print(data2.iloc[1])\n",
    "\n",
    "I=[]\n",
    "\n",
    "for i in range(len(data3.index)):\n",
    "    g=data3.iloc[i].tolist()\n",
    "    g[0],g[1]=g[1],g[0]\n",
    "    I.append(g)\n",
    "del I[0]\n",
    "print(I)\n",
    "\n",
    "\n"
   ]
  },
  {
   "cell_type": "code",
   "execution_count": 160,
   "metadata": {},
   "outputs": [
    {
     "name": "stdout",
     "output_type": "stream",
     "text": [
      "[23.9382, 121.461]\n"
     ]
    },
    {
     "data": {
      "text/html": [
       "<div style=\"width:100%;\"><div style=\"position:relative;width:100%;height:0;padding-bottom:60%;\"><span style=\"color:#565656\">Make this Notebook Trusted to load map: File -> Trust Notebook</span><iframe srcdoc=\"&lt;!DOCTYPE html&gt;\n",
       "&lt;html&gt;\n",
       "&lt;head&gt;\n",
       "    \n",
       "    &lt;meta http-equiv=&quot;content-type&quot; content=&quot;text/html; charset=UTF-8&quot; /&gt;\n",
       "    \n",
       "        &lt;script&gt;\n",
       "            L_NO_TOUCH = false;\n",
       "            L_DISABLE_3D = false;\n",
       "        &lt;/script&gt;\n",
       "    \n",
       "    &lt;style&gt;html, body {width: 100%;height: 100%;margin: 0;padding: 0;}&lt;/style&gt;\n",
       "    &lt;style&gt;#map {position:absolute;top:0;bottom:0;right:0;left:0;}&lt;/style&gt;\n",
       "    &lt;script src=&quot;https://cdn.jsdelivr.net/npm/leaflet@1.9.3/dist/leaflet.js&quot;&gt;&lt;/script&gt;\n",
       "    &lt;script src=&quot;https://code.jquery.com/jquery-3.7.1.min.js&quot;&gt;&lt;/script&gt;\n",
       "    &lt;script src=&quot;https://cdn.jsdelivr.net/npm/bootstrap@5.2.2/dist/js/bootstrap.bundle.min.js&quot;&gt;&lt;/script&gt;\n",
       "    &lt;script src=&quot;https://cdnjs.cloudflare.com/ajax/libs/Leaflet.awesome-markers/2.0.2/leaflet.awesome-markers.js&quot;&gt;&lt;/script&gt;\n",
       "    &lt;link rel=&quot;stylesheet&quot; href=&quot;https://cdn.jsdelivr.net/npm/leaflet@1.9.3/dist/leaflet.css&quot;/&gt;\n",
       "    &lt;link rel=&quot;stylesheet&quot; href=&quot;https://cdn.jsdelivr.net/npm/bootstrap@5.2.2/dist/css/bootstrap.min.css&quot;/&gt;\n",
       "    &lt;link rel=&quot;stylesheet&quot; href=&quot;https://netdna.bootstrapcdn.com/bootstrap/3.0.0/css/bootstrap.min.css&quot;/&gt;\n",
       "    &lt;link rel=&quot;stylesheet&quot; href=&quot;https://cdn.jsdelivr.net/npm/@fortawesome/fontawesome-free@6.2.0/css/all.min.css&quot;/&gt;\n",
       "    &lt;link rel=&quot;stylesheet&quot; href=&quot;https://cdnjs.cloudflare.com/ajax/libs/Leaflet.awesome-markers/2.0.2/leaflet.awesome-markers.css&quot;/&gt;\n",
       "    &lt;link rel=&quot;stylesheet&quot; href=&quot;https://cdn.jsdelivr.net/gh/python-visualization/folium/folium/templates/leaflet.awesome.rotate.min.css&quot;/&gt;\n",
       "    \n",
       "            &lt;meta name=&quot;viewport&quot; content=&quot;width=device-width,\n",
       "                initial-scale=1.0, maximum-scale=1.0, user-scalable=no&quot; /&gt;\n",
       "            &lt;style&gt;\n",
       "                #map_dd503b9219f7c79fbcb3f03b1eb1d465 {\n",
       "                    position: relative;\n",
       "                    width: 100.0%;\n",
       "                    height: 100.0%;\n",
       "                    left: 0.0%;\n",
       "                    top: 0.0%;\n",
       "                }\n",
       "                .leaflet-container { font-size: 1rem; }\n",
       "            &lt;/style&gt;\n",
       "        \n",
       "    &lt;script src=&quot;https://cdn.jsdelivr.net/gh/python-visualization/folium@main/folium/templates/leaflet_heat.min.js&quot;&gt;&lt;/script&gt;\n",
       "&lt;/head&gt;\n",
       "&lt;body&gt;\n",
       "    \n",
       "    \n",
       "            &lt;div class=&quot;folium-map&quot; id=&quot;map_dd503b9219f7c79fbcb3f03b1eb1d465&quot; &gt;&lt;/div&gt;\n",
       "        \n",
       "&lt;/body&gt;\n",
       "&lt;script&gt;\n",
       "    \n",
       "    \n",
       "            var map_dd503b9219f7c79fbcb3f03b1eb1d465 = L.map(\n",
       "                &quot;map_dd503b9219f7c79fbcb3f03b1eb1d465&quot;,\n",
       "                {\n",
       "                    center: [25.033, 121.565],\n",
       "                    crs: L.CRS.EPSG3857,\n",
       "                    zoom: 2,\n",
       "                    zoomControl: true,\n",
       "                    preferCanvas: false,\n",
       "                }\n",
       "            );\n",
       "\n",
       "            \n",
       "\n",
       "        \n",
       "    \n",
       "            var tile_layer_a7cbb22cbaa131d1253c32eff838720a = L.tileLayer(\n",
       "                &quot;https://tile.openstreetmap.org/{z}/{x}/{y}.png&quot;,\n",
       "                {&quot;attribution&quot;: &quot;\\u0026copy; \\u003ca href=\\&quot;https://www.openstreetmap.org/copyright\\&quot;\\u003eOpenStreetMap\\u003c/a\\u003e contributors&quot;, &quot;detectRetina&quot;: false, &quot;maxNativeZoom&quot;: 19, &quot;maxZoom&quot;: 19, &quot;minZoom&quot;: 0, &quot;noWrap&quot;: false, &quot;opacity&quot;: 1, &quot;subdomains&quot;: &quot;abc&quot;, &quot;tms&quot;: false}\n",
       "            );\n",
       "        \n",
       "    \n",
       "            tile_layer_a7cbb22cbaa131d1253c32eff838720a.addTo(map_dd503b9219f7c79fbcb3f03b1eb1d465);\n",
       "        \n",
       "    \n",
       "            var heat_map_5791a93e598e838b61465f02b2f7a788 = L.heatLayer(\n",
       "                [[23.0982, 121.162], [23.9382, 121.461], [23.466, 121.527], [23.3207, 121.435], [23.2248, 120.43], [24.4848, 121.893], [24.8238, 122.231], [24.2675, 121.894], [22.7948, 121.149], [22.7998, 121.155], [22.7927, 121.153], [24.7013, 121.739], [22.7778, 121.295], [22.7958, 121.168], [23.3208, 120.407], [24.3867, 121.741], [24.3385, 121.774], [24.3822, 121.734], [23.2607, 120.972], [23.4977, 121.506], [23.7397, 121.471], [23.3918, 121.297], [23.0632, 121.141], [24.1637, 121.308], [24.3555, 121.903], [24.0753, 120.924], [24.3678, 121.67], [22.7537, 120.915], [22.9118, 121.081], [23.743, 121.396], [22.5152, 120.944], [22.8003, 121.144], [22.7907, 121.16], [24.1812, 121.733], [24.8547, 121.391], [24.3178, 122.929], [23.03, 121.191], [23.7437, 121.404], [24.636, 121.535], [23.439, 121.439], [24.2997, 121.808], [23.2692, 120.971], [24.1817, 121.723], [23.207, 121.348], [24.1085, 121.545], [23.1968, 121.358], [23.2958, 121.437], [24.182, 121.727], [23.9275, 121.463], [23.132, 120.799], [24.4003, 121.705], [24.4323, 120.956], [22.873, 120.644]],\n",
       "                {&quot;blur&quot;: 15, &quot;maxZoom&quot;: 18, &quot;minOpacity&quot;: 0.5, &quot;radius&quot;: 25}\n",
       "            );\n",
       "        \n",
       "    \n",
       "            heat_map_5791a93e598e838b61465f02b2f7a788.addTo(map_dd503b9219f7c79fbcb3f03b1eb1d465);\n",
       "        \n",
       "&lt;/script&gt;\n",
       "&lt;/html&gt;\" style=\"position:absolute;width:100%;height:100%;left:0;top:0;border:none !important;\" allowfullscreen webkitallowfullscreen mozallowfullscreen></iframe></div></div>"
      ],
      "text/plain": [
       "<folium.folium.Map at 0x14cdf575a10>"
      ]
     },
     "execution_count": 160,
     "metadata": {},
     "output_type": "execute_result"
    }
   ],
   "source": [
    "import folium\n",
    "from folium.plugins import HeatMap\n",
    "import pandas as pd\n",
    "import numpy as np\n",
    "#使用pandas讀取特定路徑的excel檔案，並指定\"第2,第3列的資料(經緯度)\n",
    "data3 =pd.read_excel(\"C:/Users/a2147/OneDrive/桌面/python/project1-folium/地震活動彙整_4月.xlsx\",usecols=[3,2])\n",
    "I=[]\n",
    "\n",
    "for i in range(len(data3.index)):\n",
    "    g=data3.iloc[i].tolist()    #每一row的(經度,緯度)提取出來並轉換成list-->[經度,緯度]\n",
    "    g[0],g[1]=g[1],g[0] #經緯度互換位置(因為座標的緯度在前)\n",
    "    I.append(g) #創建元素為每一組經緯度的二維陣列\n",
    "del I[0]    #第一row為\"經度\",\"緯度\"字串，所以要刪掉\n",
    "\n",
    "#folium.Marker(location=I[1],popup=\"here\").add_to(fmap)\n",
    "print(I[1])\n",
    "#for t in I:\n",
    "#    folium.Marker(location=t,popup=\"地震位置\").add_to(fmap)\n",
    "pmap = folium.Map(location=[25.033, 121.565], zoom_start=2)\n",
    "HeatMap(I).add_to(pmap)\n",
    "pmap    #顯示地圖\n",
    "\n",
    "\n"
   ]
  },
  {
   "cell_type": "code",
   "execution_count": 219,
   "metadata": {},
   "outputs": [
    {
     "name": "stdout",
     "output_type": "stream",
     "text": [
      "2 , 10\n",
      "3 , 9\n",
      "4 , 8\n",
      "5 , 7\n"
     ]
    },
    {
     "ename": "",
     "evalue": "",
     "output_type": "error",
     "traceback": [
      "\u001b[1;31m在目前儲存格或上一個儲存格中執行程式碼時，Kernel 已損毀。請檢閱儲存格中的程式碼，找出失敗的可能原因。如需詳細資訊，請按一下<a href='https://aka.ms/vscodeJupyterKernelCrash'>這裡</a>。檢視 Jupyter <a href='command:jupyter.viewOutput'>記錄</a>，以取得進一步的詳細資料。"
     ]
    }
   ],
   "source": [
    "\n",
    "x=\"1,2,3,4,5,6,7,8,9,10\"\n",
    "target=12\n",
    "f=x.split(\",\")\n",
    "for i in range(len(f)):\n",
    "    f[i]=int(f[i])\n",
    "\n",
    "\n",
    "#print(f[0]+1)\n",
    "for value in f:\n",
    "    if target-value in f:\n",
    "        print(value,\",\",target-value)\n",
    "\n",
    "        if f.index(target-value)-f.index(value)<=2:\n",
    "            break\n",
    "    \n"
   ]
  }
 ],
 "metadata": {
  "kernelspec": {
   "display_name": "Python 3",
   "language": "python",
   "name": "python3"
  },
  "language_info": {
   "codemirror_mode": {
    "name": "ipython",
    "version": 3
   },
   "file_extension": ".py",
   "mimetype": "text/x-python",
   "name": "python",
   "nbconvert_exporter": "python",
   "pygments_lexer": "ipython3",
   "version": "3.11.2"
  }
 },
 "nbformat": 4,
 "nbformat_minor": 2
}
